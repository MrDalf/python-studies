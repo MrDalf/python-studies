{
  "nbformat": 4,
  "nbformat_minor": 0,
  "metadata": {
    "colab": {
      "provenance": []
    },
    "kernelspec": {
      "name": "python3",
      "display_name": "Python 3"
    },
    "language_info": {
      "name": "python"
    }
  },
  "cells": [
    {
      "cell_type": "markdown",
      "source": [
        "Basic mathematical operations can be performed in Python using the symbols below:\n",
        "\n",
        "SUM (+)\n",
        "\n",
        "SUBTRACTION (-)\n",
        "\n",
        "DIVISION (/)\n",
        "\n",
        "MULTIPLICATION (*)\n",
        "\n",
        "POWER (**)\n",
        "\n",
        "REMAIN (%)"
      ],
      "metadata": {
        "id": "xnodT7SNVtrT"
      }
    },
    {
      "cell_type": "code",
      "execution_count": null,
      "metadata": {
        "id": "bWCDokvdVTDZ"
      },
      "outputs": [],
      "source": [
        "# Examples\n",
        "\n",
        "# Sum\n",
        "print(1+2)\n",
        "\n",
        "# Subtraction\n",
        "print(54-6)\n",
        "\n",
        "# Division\n",
        "print(100/10)\n",
        "\n",
        "# Multiplication\n",
        "print(3*4)\n",
        "\n",
        "# Power\n",
        "print(2**10)\n",
        "\n",
        "# Remain\n",
        "print(10%3)"
      ]
    }
  ]
}